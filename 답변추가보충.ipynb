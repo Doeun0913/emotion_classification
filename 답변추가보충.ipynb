{
  "nbformat": 4,
  "nbformat_minor": 0,
  "metadata": {
    "colab": {
      "provenance": []
    },
    "kernelspec": {
      "name": "python3",
      "display_name": "Python 3"
    },
    "language_info": {
      "name": "python"
    }
  },
  "cells": [
    {
      "cell_type": "code",
      "execution_count": null,
      "metadata": {
        "id": "XkoF4CHk9E5m"
      },
      "outputs": [],
      "source": [
        "import pandas as pd\n",
        "\n",
        "# 업로드한 파일 경로\n",
        "file_path = \"train.csv\"\n",
        "\n",
        "# CSV 파일 불러오기\n",
        "df = pd.read_csv(file_path)\n",
        "\n",
        "# 라벨이 1인 데이터만 필터링\n",
        "df_filtered = df[df['label'] == 1].copy()\n",
        "\n",
        "# 필요한 열만 구성, category는 'review'로 지정\n",
        "df_final = pd.DataFrame({\n",
        "    \"text\": df_filtered[\"text\"],\n",
        "    \"labels\": 1,\n",
        "    \"category\": \"review\"\n",
        "})\n",
        "\n",
        "df_final.to_csv(\"ai_reviews.csv\", index=False)"
      ]
    },
    {
      "cell_type": "code",
      "source": [
        "# 결측치와 중복률 계산\n",
        "missing_counts = df_final.isnull().sum()\n",
        "duplicate_count = df_final.duplicated().sum()\n",
        "total_count = len(df_final)\n",
        "\n",
        "missing_counts, duplicate_count, total_count"
      ],
      "metadata": {
        "colab": {
          "base_uri": "https://localhost:8080/"
        },
        "id": "VXatJdeJEuNj",
        "outputId": "8eb84b68-c30d-4cc2-9cf8-fe97bb2bb362"
      },
      "execution_count": null,
      "outputs": [
        {
          "output_type": "execute_result",
          "data": {
            "text/plain": [
              "(text        0\n",
              " labels      0\n",
              " category    0\n",
              " dtype: int64,\n",
              " np.int64(0),\n",
              " 5948)"
            ]
          },
          "metadata": {},
          "execution_count": 2
        }
      ]
    },
    {
      "cell_type": "code",
      "source": [
        "import pandas as pd\n",
        "\n",
        "# JSON 파일 불러오기\n",
        "df = pd.read_json(\"train.jsonl\", lines=True)\n",
        "\n",
        "# 평점이 1~5점 사이만 필터링\n",
        "df_filtered = df[df['review_star'].isin([1, 2, 3, 4, 5])].copy()\n",
        "\n",
        "# 문장이 3문장 이상인 데이터만 필터링 (마침표를 기준으로 문장 수 판단)\n",
        "df_filtered = df_filtered[df_filtered[\"en_segment\"].str.count(r'[.!?]') >= 2]  # 2개 이상의 마침표 → 3문장 이상 추정\n",
        "\n",
        "# 총 37687개 균등 샘플링\n",
        "target_total = 37687\n",
        "per_score = target_total // 5\n",
        "\n",
        "# 점수별 균등 샘플링\n",
        "balanced_samples = pd.concat([\n",
        "    df_filtered[df_filtered['review_star'] == score].sample(per_score, random_state=42)\n",
        "    for score in range(1, 6)\n",
        "])\n",
        "\n",
        "# 최종 DataFrame 구성\n",
        "df_final = pd.DataFrame({\n",
        "    \"text\": balanced_samples[\"en_segment\"].astype(str),\n",
        "    \"labels\": 1,\n",
        "    \"category\": \"review\"\n",
        "})\n",
        "\n",
        "# 정보 출력\n",
        "print(\"✅ 결측치 수:\\n\", df_final.isnull().sum())\n",
        "print(\"🔁 중복된 행 수:\", df_final.duplicated().sum())\n",
        "print(\"📊 총 데이터 수:\", len(df_final))\n",
        "\n",
        "# 저장 (선택)\n",
        "df_final.to_csv(\"ai_reviews_balanced_3sent.csv\", index=False)"
      ],
      "metadata": {
        "colab": {
          "base_uri": "https://localhost:8080/"
        },
        "id": "YE7XJlvEKGui",
        "outputId": "2b711454-eb10-436e-fc27-caaa61d1043b"
      },
      "execution_count": null,
      "outputs": [
        {
          "output_type": "stream",
          "name": "stdout",
          "text": [
            "✅ 결측치 수:\n",
            " text        0\n",
            "labels      0\n",
            "category    0\n",
            "dtype: int64\n",
            "🔁 중복된 행 수: 0\n",
            "📊 총 데이터 수: 37685\n"
          ]
        }
      ]
    },
    {
      "cell_type": "code",
      "source": [
        "# ai_review.csv와 ai_review_plus.csv 파일 불러오기\n",
        "df_ai_review = pd.read_csv(\"ai_reviews.csv\")\n",
        "df_ai_review_plus = pd.read_csv(\"ai_reviews_plus.csv\")\n",
        "\n",
        "# 두 데이터프레임 합치기\n",
        "df_combined = pd.concat([df_ai_review, df_ai_review_plus], ignore_index=True)\n",
        "\n",
        "# 합쳐진 데이터프레임의 정보 확인 (선택)\n",
        "print(\"✅ 합쳐진 데이터프레임 결측치 수:\\n\", df_combined.isnull().sum())\n",
        "print(\"🔁 합쳐진 데이터프레임 중복된 행 수:\", df_combined.duplicated().sum())\n",
        "print(\"📊 합쳐진 데이터프레임 총 데이터 수:\", len(df_combined))\n",
        "\n",
        "# 합쳐진 데이터프레임 저장 (선택)\n",
        "df_combined.to_csv(\"combined_ai_reviews.csv\", index=False)\n"
      ],
      "metadata": {
        "colab": {
          "base_uri": "https://localhost:8080/"
        },
        "id": "NXuE_3QoNkfh",
        "outputId": "5a1546ab-79ae-463b-ef77-c82106b709b6"
      },
      "execution_count": null,
      "outputs": [
        {
          "output_type": "stream",
          "name": "stdout",
          "text": [
            "✅ 합쳐진 데이터프레임 결측치 수:\n",
            " text        0\n",
            "labels      0\n",
            "category    0\n",
            "dtype: int64\n",
            "🔁 합쳐진 데이터프레임 중복된 행 수: 0\n",
            "📊 합쳐진 데이터프레임 총 데이터 수: 43633\n"
          ]
        }
      ]
    },
    {
      "cell_type": "code",
      "source": [
        "import pandas as pd\n",
        "\n",
        "# combined_ai_reviews.csv 파일 불러오기\n",
        "try:\n",
        "    df_combined = pd.read_csv(\"combined_ai_reviews.csv\")\n",
        "\n",
        "    # 결측치 확인 및 개수 계산\n",
        "    missing_counts = df_combined.isnull().sum()\n",
        "\n",
        "    # 중복 데이터 확인 및 개수 계산\n",
        "    duplicate_count = df_combined.duplicated().sum()\n",
        "\n",
        "    # 결과 출력\n",
        "    print(\"✅ combined_ai_reviews.csv 파일의 결측치 수:\\n\", missing_counts)\n",
        "    print(\"🔁 combined_ai_reviews.csv 파일의 중복된 행 수:\", duplicate_count)\n",
        "\n",
        "except FileNotFoundError:\n",
        "    print(\"🚨 combined_ai_reviews.csv 파일을 찾을 수 없습니다.\")\n",
        "except Exception as e:\n",
        "    print(f\"🚨 파일을 읽거나 처리하는 중 오류가 발생했습니다: {e}\")"
      ],
      "metadata": {
        "colab": {
          "base_uri": "https://localhost:8080/"
        },
        "id": "naCS90KsOFep",
        "outputId": "0aac4a37-6613-4974-a747-b7b4f74d6e44"
      },
      "execution_count": null,
      "outputs": [
        {
          "output_type": "stream",
          "name": "stdout",
          "text": [
            "✅ combined_ai_reviews.csv 파일의 결측치 수:\n",
            " text        0\n",
            "labels      0\n",
            "category    0\n",
            "dtype: int64\n",
            "🔁 combined_ai_reviews.csv 파일의 중복된 행 수: 0\n"
          ]
        }
      ]
    }
  ]
}