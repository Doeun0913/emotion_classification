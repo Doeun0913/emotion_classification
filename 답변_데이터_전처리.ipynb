{
  "nbformat": 4,
  "nbformat_minor": 0,
  "metadata": {
    "colab": {
      "provenance": []
    },
    "kernelspec": {
      "name": "python3",
      "display_name": "Python 3"
    },
    "language_info": {
      "name": "python"
    }
  },
  "cells": [
    {
      "cell_type": "code",
      "source": [
        "import pandas as pd\n",
        "import ast\n",
        "\n",
        "# 데이터 로드\n",
        "df = pd.read_csv(\"hc3.csv\")\n",
        "\n",
        "# 빈 답변 제거 (둘 중 하나라도 비어 있으면 제외)\n",
        "def is_valid(entry):\n",
        "    try:\n",
        "        h = ast.literal_eval(entry[\"human_answers\"])\n",
        "        g = ast.literal_eval(entry[\"chatgpt_answers\"])\n",
        "        return bool(h) and bool(g)\n",
        "    except:\n",
        "        return False\n",
        "\n",
        "df_filtered = df[df.apply(is_valid, axis=1)]\n",
        "\n",
        "# 문단 형식으로 변환\n",
        "records = []\n",
        "for _, row in df_filtered.iterrows():\n",
        "    h = \"\\n\".join(ast.literal_eval(row[\"human_answers\"])).strip()\n",
        "    g = \"\\n\".join(ast.literal_eval(row[\"chatgpt_answers\"])).strip()\n",
        "    if h and g:\n",
        "        records.append({\"text\": h, \"labels\": 0, \"category\": \"answer\"})\n",
        "        records.append({\"text\": g, \"labels\": 1, \"category\": \"answer\"})\n",
        "\n",
        "# 저장\n",
        "final_df = pd.DataFrame(records)\n",
        "final_df.to_csv(\"hc3_filtered_complete_pairs.csv\", index=False)"
      ],
      "metadata": {
        "id": "c9lycCPH66-D"
      },
      "execution_count": null,
      "outputs": []
    },
    {
      "cell_type": "code",
      "source": [
        "import pandas as pd\n",
        "import ast\n",
        "\n",
        "# CSV 불러오기\n",
        "df = pd.read_csv(\"hc3.csv\")\n",
        "\n",
        "# 결과 저장용\n",
        "empty_human_indices = []\n",
        "empty_gpt_indices = []\n",
        "\n",
        "for idx, row in df.iterrows():\n",
        "    # human_answers 검사\n",
        "    try:\n",
        "        human_answers = ast.literal_eval(row['human_answers'])\n",
        "        if not human_answers or all(ans.strip() == \"\" for ans in human_answers):\n",
        "            empty_human_indices.append(idx)\n",
        "    except:\n",
        "        empty_human_indices.append(idx)\n",
        "\n",
        "    # chatgpt_answers 검사\n",
        "    try:\n",
        "        gpt_answers = ast.literal_eval(row['chatgpt_answers'])\n",
        "        if not gpt_answers or all(ans.strip() == \"\" for ans in gpt_answers):\n",
        "            empty_gpt_indices.append(idx)\n",
        "    except:\n",
        "        empty_gpt_indices.append(idx)\n",
        "\n",
        "# 통계 출력\n",
        "print(f\"human_answers가 비어있는 행 수: {len(empty_human_indices)}\")\n",
        "print(f\"chatgpt_answers가 비어있는 행 수: {len(empty_gpt_indices)}\")\n",
        "\n",
        "# (선택) 해당 인덱스 행 출력\n",
        "# print(df.loc[empty_human_indices])\n",
        "# print(df.loc[empty_gpt_indices])"
      ],
      "metadata": {
        "colab": {
          "base_uri": "https://localhost:8080/"
        },
        "id": "U2UxX9RM4JjH",
        "outputId": "a658b358-bcf9-4110-98a5-99cf899e03ef"
      },
      "execution_count": null,
      "outputs": [
        {
          "output_type": "stream",
          "name": "stdout",
          "text": [
            "human_answers가 비어있는 행 수: 0\n",
            "chatgpt_answers가 비어있는 행 수: 457\n"
          ]
        }
      ]
    },
    {
      "cell_type": "code",
      "source": [
        "# hc3_filtered_complete_pairs.csv 파일 로드\n",
        "df_filtered_complete_pairs = pd.read_csv(\"hc3_filtered_complete_pairs.csv\")\n",
        "\n",
        "# 'labels' 열의 값에 따른 데이터 개수 계산\n",
        "label_counts = df_filtered_complete_pairs['labels'].value_counts()\n",
        "\n",
        "# 결과 출력\n",
        "print(\"hc3_filtered_complete_pairs.csv 파일의 labels 분포:\")\n",
        "print(label_counts)\n",
        "\n",
        "# labels가 0인 데이터 개수 출력\n",
        "print(f\"labels가 0인 데이터 개수: {label_counts.get(0, 0)}\")\n",
        "\n",
        "# labels가 1인 데이터 개수 출력\n",
        "print(f\"labels가 1인 데이터 개수: {label_counts.get(1, 0)}\")\n"
      ],
      "metadata": {
        "colab": {
          "base_uri": "https://localhost:8080/"
        },
        "id": "ZBmdkMUr7Nra",
        "outputId": "4859cd0e-7ba4-492e-e31d-b1e2565a7585"
      },
      "execution_count": null,
      "outputs": [
        {
          "output_type": "stream",
          "name": "stdout",
          "text": [
            "hc3_filtered_complete_pairs.csv 파일의 labels 분포:\n",
            "labels\n",
            "0    23865\n",
            "1    23865\n",
            "Name: count, dtype: int64\n",
            "labels가 0인 데이터 개수: 23865\n",
            "labels가 1인 데이터 개수: 23865\n"
          ]
        }
      ]
    },
    {
      "cell_type": "markdown",
      "source": [],
      "metadata": {
        "id": "bowsr3fc7Ndn"
      }
    }
  ]
}